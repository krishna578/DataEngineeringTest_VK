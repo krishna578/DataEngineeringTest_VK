{
 "cells": [
  {
   "cell_type": "code",
   "execution_count": 20,
   "metadata": {},
   "outputs": [
    {
     "name": "stdout",
     "output_type": "stream",
     "text": [
      "Password········\n",
      "[('source_table', 'CREATE TABLE `source_table` (\\n  `id` mediumint(9) DEFAULT NULL,\\n  `date` datetime DEFAULT NULL,\\n  `name` varchar(50) DEFAULT NULL,\\n  `my comments` varchar(50) DEFAULT NULL\\n) ENGINE=InnoDB DEFAULT CHARSET=latin1')]\n",
      "source_tableCREATE TABLE `source_table` (\n",
      "  `id` mediumint(9) DEFAULT NULL,\n",
      "  `date` datetime DEFAULT NULL,\n",
      "  `name` varchar(50) DEFAULT NULL,\n",
      "  `my comments` varchar(50) DEFAULT NULL\n",
      ") ENGINE=InnoDB DEFAULT CHARSET=latin1\n"
     ]
    }
   ],
   "source": [
    "import pyodbc\n",
    "import getpass\n",
    "import numpy as np\n",
    "\n",
    "pswd = getpass.getpass('Password')\n",
    "\n",
    "cnxn = pyodbc.connect(\"DRIVER={MySQL ODBC 8.0 ANSI Driver};SERVER=bcbsnc-de-test.crlleswktbdf.us-east-1.rds.amazonaws.com;DATABASE=detest; UID=guest; PASSWORD=\" + pswd + \";\") \n",
    "crsr = cnxn.cursor()\n",
    "\n",
    "query = \"SHOW CREATE TABLE source_table\"\n",
    "\n",
    "crsr.execute(query)\n",
    "result = list(crsr.fetchall())\n",
    "print(result)\n",
    "\n",
    "text=\"\\n\".join([\"\".join(x) for x in result])\n",
    "print(text)"
   ]
  },
  {
   "cell_type": "code",
   "execution_count": 29,
   "metadata": {},
   "outputs": [
    {
     "name": "stdout",
     "output_type": "stream",
     "text": [
      "source_tableCREATE TABLE `source_table` (\n",
      "  `id` int DEFAULT NULL,\n",
      "  `date` timestamp DEFAULT NULL,\n",
      "  `name` string DEFAULT NULL,\n",
      "  `my comments` string DEFAULT NULL\n",
      ") ENGINE=InnoDB DEFAULT CHARSET=latin1\n"
     ]
    }
   ],
   "source": [
    "d={}\n",
    "d[\"mediumint(%)\"]= 'int'\n",
    "d[\"datetime\"]='timestamp'\n",
    "d[\"varchar(%)\"]='string'\n",
    "d[\"char(%)\"]='string'\n",
    "#text='CREATE TABLE`source_table` (`id` mediumint(9) DEFAULT NULL,`date` datetime DEFAULT NULL,`name` varchar(50) DEFAULT NULL,`my comments` varchar(50) DEFAULT NULL)' \n",
    "splitlines = text.split()\n",
    "for word in splitlines:\n",
    "    if word in d:\n",
    "        text = text.replace(word,str(d[word]))\n",
    "print(text)\n",
    "cnxn.close"
   ]
  }
 ],
 "metadata": {
  "kernelspec": {
   "display_name": "Python 3",
   "language": "python",
   "name": "python3"
  },
  "language_info": {
   "codemirror_mode": {
    "name": "ipython",
    "version": 3
   },
   "file_extension": ".py",
   "mimetype": "text/x-python",
   "name": "python",
   "nbconvert_exporter": "python",
   "pygments_lexer": "ipython3",
   "version": "3.7.1"
  }
 },
 "nbformat": 4,
 "nbformat_minor": 2
}
