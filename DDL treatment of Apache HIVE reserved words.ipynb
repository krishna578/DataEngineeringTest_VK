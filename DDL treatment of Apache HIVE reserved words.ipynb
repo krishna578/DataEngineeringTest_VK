{
 "cells": [
  {
   "cell_type": "code",
   "execution_count": 12,
   "metadata": {
    "scrolled": true
   },
   "outputs": [
    {
     "name": "stdout",
     "output_type": "stream",
     "text": [
      "Password········\n",
      "['ID', 'DATE', 'NAME', 'MY COMMENTS']\n"
     ]
    }
   ],
   "source": [
    "import pyodbc\n",
    "import getpass\n",
    "import numpy as np\n",
    "\n",
    "pswd = getpass.getpass('Password')\n",
    "\n",
    "cnxn = pyodbc.connect(\"DRIVER={MySQL ODBC 8.0 ANSI Driver};SERVER=bcbsnc-de-test.crlleswktbdf.us-east-1.rds.amazonaws.com;DATABASE=detest; UID=guest; PASSWORD=\" + pswd + \";\") \n",
    "crsr = cnxn.cursor()\n",
    "\n",
    "query = \"SHOW COLUMNS FROM source_table\"\n",
    "\n",
    "crsr.execute(query)\n",
    "\n",
    "result = crsr.fetchall() \n",
    "\n",
    "\n",
    "\n",
    "column_list = []\n",
    "for row in result:\n",
    "    column_list .append(str(row[0]))\n",
    "    \n",
    "cl=[x.upper() for x in column_list]\n",
    "print(cl)\n"
   ]
  },
  {
   "cell_type": "code",
   "execution_count": 13,
   "metadata": {},
   "outputs": [
    {
     "name": "stdout",
     "output_type": "stream",
     "text": [
      "Password········\n",
      "['ALL', 'ALTER', 'AND', 'ARRAY', 'AS', 'AUTHORIZATION', 'BETWEEN', 'BIGINT', 'BINARY', 'BOOLEAN', 'BOTH', 'BY', 'CASE', 'CAST', 'CHAR', 'COLUMN', 'CONF', 'CREATE', 'CROSS', 'CUBE', 'CURRENT', 'CURRENT_DATE', 'CURRENT_TIMESTAMP', 'CURSOR', 'DATABASE', 'DATE', 'DECIMAL', 'DELETE', 'DESCRIBE', 'DISTINCT', 'DOUBLE', 'DROP', 'ELSE', 'END', 'EXCHANGE', 'EXISTS', 'EXTENDED', 'EXTERNAL', 'FALSE', 'FETCH', 'FLOAT', 'FOLLOWING', 'FOR', 'FROM', 'FULL', 'FUNCTION', 'GRANT', 'GROUP', 'GROUPING', 'HAVING', 'IF', 'IMPORT', 'IN', 'INNER', 'INSERT', 'INT', 'INTERSECT', 'INTERVAL', 'INTO', 'IS', 'JOIN', 'LATERAL', 'LEFT', 'LESS', 'LIKE', 'LOCAL', 'MACRO', 'MAP', 'MORE', 'NONE', 'NOT', 'NULL', 'OF', 'ON', 'OR', 'ORDER', 'OUT', 'OUTER', 'OVER', 'PARTIALSCAN', 'PARTITION', 'PERCENT', 'PRECEDING', 'PRESERVE', 'PROCEDURE', 'RANGE', 'READS', 'REDUCE', 'REVOKE', 'RIGHT', 'ROLLUP', 'ROW', 'ROWS', 'SELECT', 'SET', 'SMALLINT', 'TABLE', 'TABLESAMPLE', 'THEN', 'TIMESTAMP', 'TO', 'TRANSFORM', 'TRIGGER', 'TRUE', 'TRUNCATE', 'UNBOUNDED', 'UNION', 'UNIQUEJOIN', 'UPDATE', 'USER', 'USING', 'UTC_TMESTAMP', 'VALUES', 'VARCHAR', 'WHEN', 'WHERE', 'WINDOW', 'WITH']\n"
     ]
    }
   ],
   "source": [
    "import pyodbc\n",
    "import getpass\n",
    "import numpy as np\n",
    "\n",
    "pswd = getpass.getpass('Password')\n",
    "\n",
    "cnxn = pyodbc.connect(\"DRIVER={MySQL ODBC 8.0 ANSI Driver};SERVER=bcbsnc-de-test.crlleswktbdf.us-east-1.rds.amazonaws.com;DATABASE=detest; UID=guest; PASSWORD=\" + pswd + \";\") \n",
    "crsr = cnxn.cursor()\n",
    "\n",
    "query = \"SELECT reserved_word FROM reserved_word_list\"\n",
    "\n",
    "crsr.execute(query)\n",
    "#rwl = list(crsr.fetchall())\n",
    "\n",
    "rwl = crsr.fetchall() \n",
    "#wl = list(i) for i in rwl\n",
    "\n",
    "\n",
    "wl = []\n",
    "for row in rwl:\n",
    "    wl.append(str(row[0]))\n",
    "\n",
    "print(wl)"
   ]
  },
  {
   "cell_type": "code",
   "execution_count": 14,
   "metadata": {},
   "outputs": [
    {
     "name": "stdout",
     "output_type": "stream",
     "text": [
      "['ID', '_DATE_', 'NAME', 'MY COMMENTS']\n"
     ]
    }
   ],
   "source": [
    "modified_list = [next(('_'+y+'_' for y in wl if y[:] == x[:]), x) for x in cl]\n",
    "print(modified_list)"
   ]
  },
  {
   "cell_type": "code",
   "execution_count": 15,
   "metadata": {},
   "outputs": [
    {
     "name": "stdout",
     "output_type": "stream",
     "text": [
      "['ID', '_DATE_', 'NAME', 'MY_COMMENTS']\n"
     ]
    }
   ],
   "source": [
    "import re\n",
    "final_modified_list = [re.sub(\"[:\\-() ]\",\"_\",x) for x in modified_list]\n",
    "print(final_modified_list)\n",
    "cnxn.close"
   ]
  }
 ],
 "metadata": {
  "kernelspec": {
   "display_name": "Python 3",
   "language": "python",
   "name": "python3"
  },
  "language_info": {
   "codemirror_mode": {
    "name": "ipython",
    "version": 3
   },
   "file_extension": ".py",
   "mimetype": "text/x-python",
   "name": "python",
   "nbconvert_exporter": "python",
   "pygments_lexer": "ipython3",
   "version": "3.7.1"
  }
 },
 "nbformat": 4,
 "nbformat_minor": 2
}
